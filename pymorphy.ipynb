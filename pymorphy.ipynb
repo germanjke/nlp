{
 "cells": [
  {
   "cell_type": "code",
   "execution_count": 1,
   "metadata": {},
   "outputs": [
    {
     "name": "stdout",
     "output_type": "stream",
     "text": [
      "Collecting pymorphy2\n",
      "  Downloading pymorphy2-0.8-py2.py3-none-any.whl (46 kB)\n",
      "Collecting dawg-python>=0.7\n",
      "  Downloading DAWG_Python-0.7.2-py2.py3-none-any.whl (11 kB)\n",
      "Collecting docopt>=0.6\n",
      "  Downloading docopt-0.6.2.tar.gz (25 kB)\n",
      "Collecting pymorphy2-dicts<3.0,>=2.4\n",
      "  Downloading pymorphy2_dicts-2.4.393442.3710985-py2.py3-none-any.whl (7.1 MB)\n",
      "Building wheels for collected packages: docopt\n",
      "  Building wheel for docopt (setup.py): started\n",
      "  Building wheel for docopt (setup.py): finished with status 'done'\n",
      "  Created wheel for docopt: filename=docopt-0.6.2-py2.py3-none-any.whl size=19856 sha256=a322fd83f30bf8d780c41ec6578385b1c5d4da1dece27299608cc2f4153cf9f8\n",
      "  Stored in directory: c:\\users\\18397891\\appdata\\local\\pip\\cache\\wheels\\3f\\2a\\fa\\4d7a888e69774d5e6e855d190a8a51b357d77cc05eb1c097c9\n",
      "Successfully built docopt\n",
      "Installing collected packages: dawg-python, docopt, pymorphy2-dicts, pymorphy2\n",
      "Successfully installed dawg-python-0.7.2 docopt-0.6.2 pymorphy2-0.8 pymorphy2-dicts-2.4.393442.3710985\n"
     ]
    }
   ],
   "source": [
    "!pip install pymorphy2"
   ]
  },
  {
   "cell_type": "code",
   "execution_count": 3,
   "metadata": {
    "collapsed": true
   },
   "outputs": [],
   "source": [
    "import pymorphy2\n",
    "morph = pymorphy2.MorphAnalyzer()"
   ]
  },
  {
   "cell_type": "code",
   "execution_count": 4,
   "metadata": {},
   "outputs": [
    {
     "data": {
      "text/plain": [
       "[Parse(word='cтали', tag=OpencorporaTag('NOUN,inan,femn sing,gent'), normal_form='cталь', score=0.045463452870860274, methods_stack=((<DictionaryAnalyzer>, 'тали', 13, 1), (<UnknownPrefixAnalyzer>, 'c'))),\n",
       " Parse(word='cтали', tag=OpencorporaTag('NOUN,inan,femn sing,datv'), normal_form='cталь', score=0.045463452870860274, methods_stack=((<DictionaryAnalyzer>, 'тали', 13, 2), (<UnknownPrefixAnalyzer>, 'c'))),\n",
       " Parse(word='cтали', tag=OpencorporaTag('NOUN,inan,femn sing,loct'), normal_form='cталь', score=0.045463452870860274, methods_stack=((<DictionaryAnalyzer>, 'тали', 13, 5), (<UnknownPrefixAnalyzer>, 'c'))),\n",
       " Parse(word='cтали', tag=OpencorporaTag('NOUN,inan,femn plur,nomn'), normal_form='cталь', score=0.045463452870860274, methods_stack=((<DictionaryAnalyzer>, 'тали', 13, 6), (<UnknownPrefixAnalyzer>, 'c'))),\n",
       " Parse(word='cтали', tag=OpencorporaTag('NOUN,inan,femn plur,accs'), normal_form='cталь', score=0.045463452870860274, methods_stack=((<DictionaryAnalyzer>, 'тали', 13, 9), (<UnknownPrefixAnalyzer>, 'c'))),\n",
       " Parse(word='cтали', tag=OpencorporaTag('NOUN,inan,GNdr,Pltm plur,nomn'), normal_form='cтали', score=0.045463452870860274, methods_stack=((<DictionaryAnalyzer>, 'тали', 153, 0), (<UnknownPrefixAnalyzer>, 'c'))),\n",
       " Parse(word='cтали', tag=OpencorporaTag('NOUN,inan,GNdr,Pltm plur,accs'), normal_form='cтали', score=0.045463452870860274, methods_stack=((<DictionaryAnalyzer>, 'тали', 153, 3), (<UnknownPrefixAnalyzer>, 'c'))),\n",
       " Parse(word='cтали', tag=OpencorporaTag('NOUN,anim,masc,Fixd,Name sing,nomn'), normal_form='cтали', score=0.045463452870860274, methods_stack=((<DictionaryAnalyzer>, 'али', 62, 0), (<UnknownPrefixAnalyzer>, 'cт'))),\n",
       " Parse(word='cтали', tag=OpencorporaTag('NOUN,anim,masc,Fixd,Name sing,gent'), normal_form='cтали', score=0.045463452870860274, methods_stack=((<DictionaryAnalyzer>, 'али', 62, 1), (<UnknownPrefixAnalyzer>, 'cт'))),\n",
       " Parse(word='cтали', tag=OpencorporaTag('NOUN,anim,masc,Fixd,Name sing,datv'), normal_form='cтали', score=0.045463452870860274, methods_stack=((<DictionaryAnalyzer>, 'али', 62, 2), (<UnknownPrefixAnalyzer>, 'cт'))),\n",
       " Parse(word='cтали', tag=OpencorporaTag('NOUN,anim,masc,Fixd,Name sing,accs'), normal_form='cтали', score=0.045463452870860274, methods_stack=((<DictionaryAnalyzer>, 'али', 62, 3), (<UnknownPrefixAnalyzer>, 'cт'))),\n",
       " Parse(word='cтали', tag=OpencorporaTag('NOUN,anim,masc,Fixd,Name sing,ablt'), normal_form='cтали', score=0.045463452870860274, methods_stack=((<DictionaryAnalyzer>, 'али', 62, 4), (<UnknownPrefixAnalyzer>, 'cт'))),\n",
       " Parse(word='cтали', tag=OpencorporaTag('NOUN,anim,masc,Fixd,Name sing,loct'), normal_form='cтали', score=0.045463452870860274, methods_stack=((<DictionaryAnalyzer>, 'али', 62, 5), (<UnknownPrefixAnalyzer>, 'cт'))),\n",
       " Parse(word='cтали', tag=OpencorporaTag('NOUN,anim,masc,Fixd,Name plur,nomn'), normal_form='cтали', score=0.045463452870860274, methods_stack=((<DictionaryAnalyzer>, 'али', 62, 6), (<UnknownPrefixAnalyzer>, 'cт'))),\n",
       " Parse(word='cтали', tag=OpencorporaTag('NOUN,anim,masc,Fixd,Name plur,gent'), normal_form='cтали', score=0.045463452870860274, methods_stack=((<DictionaryAnalyzer>, 'али', 62, 7), (<UnknownPrefixAnalyzer>, 'cт'))),\n",
       " Parse(word='cтали', tag=OpencorporaTag('NOUN,anim,masc,Fixd,Name plur,datv'), normal_form='cтали', score=0.045463452870860274, methods_stack=((<DictionaryAnalyzer>, 'али', 62, 8), (<UnknownPrefixAnalyzer>, 'cт'))),\n",
       " Parse(word='cтали', tag=OpencorporaTag('NOUN,anim,masc,Fixd,Name plur,accs'), normal_form='cтали', score=0.045463452870860274, methods_stack=((<DictionaryAnalyzer>, 'али', 62, 9), (<UnknownPrefixAnalyzer>, 'cт'))),\n",
       " Parse(word='cтали', tag=OpencorporaTag('NOUN,anim,masc,Fixd,Name plur,ablt'), normal_form='cтали', score=0.045463452870860274, methods_stack=((<DictionaryAnalyzer>, 'али', 62, 10), (<UnknownPrefixAnalyzer>, 'cт'))),\n",
       " Parse(word='cтали', tag=OpencorporaTag('NOUN,anim,masc,Fixd,Name plur,loct'), normal_form='cтали', score=0.045463452870860274, methods_stack=((<DictionaryAnalyzer>, 'али', 62, 11), (<UnknownPrefixAnalyzer>, 'cт'))),\n",
       " Parse(word='cтали', tag=OpencorporaTag('NOUN,anim,femn,Name sing,gent'), normal_form='cталя', score=0.045463452870860274, methods_stack=((<DictionaryAnalyzer>, 'али', 200, 1), (<UnknownPrefixAnalyzer>, 'cт'))),\n",
       " Parse(word='cтали', tag=OpencorporaTag('NOUN,anim,femn,Name plur,nomn'), normal_form='cталя', score=0.045463452870860274, methods_stack=((<DictionaryAnalyzer>, 'али', 200, 7), (<UnknownPrefixAnalyzer>, 'cт'))),\n",
       " Parse(word='cтали', tag=OpencorporaTag('VERB,perf,tran plur,past,indc'), normal_form='cтать', score=0.031746031746031744, methods_stack=((<FakeDictionary>, 'cтали', 614, 4), (<KnownSuffixAnalyzer>, 'тали'))),\n",
       " Parse(word='cтали', tag=OpencorporaTag('NOUN,inan,femn,Sgtm,Orgn sing,gent'), normal_form='cталь', score=0.004507152655300804, methods_stack=((<FakeDictionary>, 'cтали', 106, 1), (<KnownSuffixAnalyzer>, 'тали'))),\n",
       " Parse(word='cтали', tag=OpencorporaTag('NOUN,inan,femn,Sgtm,Orgn sing,datv'), normal_form='cталь', score=0.004507152655300804, methods_stack=((<FakeDictionary>, 'cтали', 106, 2), (<KnownSuffixAnalyzer>, 'тали'))),\n",
       " Parse(word='cтали', tag=OpencorporaTag('NOUN,inan,femn,Sgtm,Orgn sing,loct'), normal_form='cталь', score=0.004507152655300804, methods_stack=((<FakeDictionary>, 'cтали', 106, 5), (<KnownSuffixAnalyzer>, 'тали')))]"
      ]
     },
     "execution_count": 4,
     "metadata": {},
     "output_type": "execute_result"
    }
   ],
   "source": [
    "morph.parse('cтали')"
   ]
  },
  {
   "cell_type": "code",
   "execution_count": 5,
   "metadata": {},
   "outputs": [
    {
     "data": {
      "text/plain": [
       "[OpencorporaTag('VERB,perf,intr plur,past,indc'),\n",
       " OpencorporaTag('NOUN,inan,femn sing,gent'),\n",
       " OpencorporaTag('NOUN,inan,femn sing,datv'),\n",
       " OpencorporaTag('NOUN,inan,femn sing,loct'),\n",
       " OpencorporaTag('NOUN,inan,femn plur,nomn'),\n",
       " OpencorporaTag('NOUN,inan,femn plur,accs')]"
      ]
     },
     "execution_count": 5,
     "metadata": {},
     "output_type": "execute_result"
    }
   ],
   "source": [
    "morph.tag('стали')"
   ]
  },
  {
   "cell_type": "code",
   "execution_count": 6,
   "metadata": {},
   "outputs": [
    {
     "data": {
      "text/plain": [
       "[Parse(word='играющих', tag=OpencorporaTag('PRTF,impf,tran,pres,actv plur,gent'), normal_form='играть', score=0.16666666666666666, methods_stack=((<DictionaryAnalyzer>, 'играющих', 303, 34),)),\n",
       " Parse(word='играющих', tag=OpencorporaTag('PRTF,impf,tran,pres,actv anim,plur,accs'), normal_form='играть', score=0.16666666666666666, methods_stack=((<DictionaryAnalyzer>, 'играющих', 303, 36),)),\n",
       " Parse(word='играющих', tag=OpencorporaTag('PRTF,impf,tran,pres,actv plur,loct'), normal_form='играть', score=0.16666666666666666, methods_stack=((<DictionaryAnalyzer>, 'играющих', 303, 39),)),\n",
       " Parse(word='играющих', tag=OpencorporaTag('NOUN,anim,masc plur,gent'), normal_form='играющий', score=0.16666666666666666, methods_stack=((<DictionaryAnalyzer>, 'играющих', 351, 7),)),\n",
       " Parse(word='играющих', tag=OpencorporaTag('NOUN,anim,masc plur,accs'), normal_form='играющий', score=0.16666666666666666, methods_stack=((<DictionaryAnalyzer>, 'играющих', 351, 9),)),\n",
       " Parse(word='играющих', tag=OpencorporaTag('NOUN,anim,masc plur,loct'), normal_form='играющий', score=0.16666666666666666, methods_stack=((<DictionaryAnalyzer>, 'играющих', 351, 11),))]"
      ]
     },
     "execution_count": 6,
     "metadata": {},
     "output_type": "execute_result"
    }
   ],
   "source": [
    "morph.parse('играющих')"
   ]
  },
  {
   "cell_type": "code",
   "execution_count": 7,
   "metadata": {},
   "outputs": [
    {
     "data": {
      "text/plain": [
       "Parse(word='играющих', tag=OpencorporaTag('PRTF,impf,tran,pres,actv plur,gent'), normal_form='играть', score=0.16666666666666666, methods_stack=((<DictionaryAnalyzer>, 'играющих', 303, 34),))"
      ]
     },
     "execution_count": 7,
     "metadata": {},
     "output_type": "execute_result"
    }
   ],
   "source": [
    "morph.parse('играющих')[0]"
   ]
  },
  {
   "cell_type": "code",
   "execution_count": 8,
   "metadata": {},
   "outputs": [
    {
     "data": {
      "text/plain": [
       "'играть'"
      ]
     },
     "execution_count": 8,
     "metadata": {},
     "output_type": "execute_result"
    }
   ],
   "source": [
    "morph.parse('играющих')[0].normal_form"
   ]
  },
  {
   "cell_type": "code",
   "execution_count": 10,
   "metadata": {},
   "outputs": [
    {
     "data": {
      "text/plain": [
       "'ПРИЧ,несов,перех,наст,действ мн,рд'"
      ]
     },
     "execution_count": 10,
     "metadata": {},
     "output_type": "execute_result"
    }
   ],
   "source": [
    "morph.parse('играющих')[0].tag.cyr_repr"
   ]
  },
  {
   "cell_type": "code",
   "execution_count": 13,
   "metadata": {},
   "outputs": [
    {
     "data": {
      "text/plain": [
       "[Parse(word='стали', tag=OpencorporaTag('VERB,perf,intr plur,past,indc'), normal_form='стать', score=0.984662, methods_stack=((<DictionaryAnalyzer>, 'стали', 904, 4),)),\n",
       " Parse(word='стали', tag=OpencorporaTag('NOUN,inan,femn sing,gent'), normal_form='сталь', score=0.003067, methods_stack=((<DictionaryAnalyzer>, 'стали', 13, 1),)),\n",
       " Parse(word='стали', tag=OpencorporaTag('NOUN,inan,femn sing,datv'), normal_form='сталь', score=0.003067, methods_stack=((<DictionaryAnalyzer>, 'стали', 13, 2),)),\n",
       " Parse(word='стали', tag=OpencorporaTag('NOUN,inan,femn sing,loct'), normal_form='сталь', score=0.003067, methods_stack=((<DictionaryAnalyzer>, 'стали', 13, 5),)),\n",
       " Parse(word='стали', tag=OpencorporaTag('NOUN,inan,femn plur,nomn'), normal_form='сталь', score=0.003067, methods_stack=((<DictionaryAnalyzer>, 'стали', 13, 6),)),\n",
       " Parse(word='стали', tag=OpencorporaTag('NOUN,inan,femn plur,accs'), normal_form='сталь', score=0.003067, methods_stack=((<DictionaryAnalyzer>, 'стали', 13, 9),))]"
      ]
     },
     "execution_count": 13,
     "metadata": {},
     "output_type": "execute_result"
    }
   ],
   "source": [
    "morph.parse('стали')"
   ]
  },
  {
   "cell_type": "code",
   "execution_count": 14,
   "metadata": {},
   "outputs": [
    {
     "data": {
      "text/plain": [
       "'ГЛ,сов,неперех мн,прош,изъяв'"
      ]
     },
     "execution_count": 14,
     "metadata": {},
     "output_type": "execute_result"
    }
   ],
   "source": [
    "morph.lat2cyr('VERB,perf,intr plur,past,indc')"
   ]
  },
  {
   "cell_type": "code",
   "execution_count": 16,
   "metadata": {},
   "outputs": [],
   "source": [
    "p = morph.parse('стали')"
   ]
  },
  {
   "cell_type": "code",
   "execution_count": 17,
   "metadata": {},
   "outputs": [
    {
     "data": {
      "text/plain": [
       "'стать'"
      ]
     },
     "execution_count": 17,
     "metadata": {},
     "output_type": "execute_result"
    }
   ],
   "source": [
    "p[0].normal_form"
   ]
  },
  {
   "cell_type": "code",
   "execution_count": 18,
   "metadata": {},
   "outputs": [
    {
     "data": {
      "text/plain": [
       "'сталь'"
      ]
     },
     "execution_count": 18,
     "metadata": {},
     "output_type": "execute_result"
    }
   ],
   "source": [
    "p[1].normal_form"
   ]
  },
  {
   "cell_type": "code",
   "execution_count": 19,
   "metadata": {},
   "outputs": [
    {
     "data": {
      "text/plain": [
       "Parse(word='стать', tag=OpencorporaTag('INFN,perf,intr'), normal_form='стать', score=1.0, methods_stack=((<DictionaryAnalyzer>, 'стать', 904, 0),))"
      ]
     },
     "execution_count": 19,
     "metadata": {},
     "output_type": "execute_result"
    }
   ],
   "source": [
    "p[0].normalized"
   ]
  },
  {
   "cell_type": "code",
   "execution_count": 20,
   "metadata": {},
   "outputs": [
    {
     "data": {
      "text/plain": [
       "OpencorporaTag('VERB,perf,intr plur,past,indc')"
      ]
     },
     "execution_count": 20,
     "metadata": {},
     "output_type": "execute_result"
    }
   ],
   "source": [
    "p[0].tag"
   ]
  },
  {
   "cell_type": "code",
   "execution_count": 23,
   "metadata": {},
   "outputs": [
    {
     "data": {
      "text/plain": [
       "Parse(word='бутявки', tag=OpencorporaTag('NOUN,inan,femn sing,gent'), normal_form='бутявка', score=1.0, methods_stack=((<DictionaryAnalyzer>, 'явки', 8, 1), (<UnknownPrefixAnalyzer>, 'бут')))"
      ]
     },
     "execution_count": 23,
     "metadata": {},
     "output_type": "execute_result"
    }
   ],
   "source": [
    "butyavka = morph.parse('бутявка')[0]\n",
    "butyavka.inflect({'gent'})"
   ]
  },
  {
   "cell_type": "code",
   "execution_count": 24,
   "metadata": {
    "collapsed": true
   },
   "outputs": [],
   "source": [
    "vor = morph.parse('вор')"
   ]
  },
  {
   "cell_type": "code",
   "execution_count": 27,
   "metadata": {},
   "outputs": [
    {
     "data": {
      "text/plain": [
       "'вор'"
      ]
     },
     "execution_count": 27,
     "metadata": {},
     "output_type": "execute_result"
    }
   ],
   "source": [
    "vor[0].normal_form"
   ]
  },
  {
   "cell_type": "code",
   "execution_count": null,
   "metadata": {
    "collapsed": true
   },
   "outputs": [],
   "source": []
  }
 ],
 "metadata": {
  "kernelspec": {
   "display_name": "Python 3",
   "language": "python",
   "name": "python3"
  },
  "language_info": {
   "codemirror_mode": {
    "name": "ipython",
    "version": 3
   },
   "file_extension": ".py",
   "mimetype": "text/x-python",
   "name": "python",
   "nbconvert_exporter": "python",
   "pygments_lexer": "ipython3",
   "version": "3.6.1"
  }
 },
 "nbformat": 4,
 "nbformat_minor": 2
}
